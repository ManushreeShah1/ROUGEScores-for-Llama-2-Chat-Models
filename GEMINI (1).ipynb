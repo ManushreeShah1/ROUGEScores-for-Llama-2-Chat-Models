{
 "cells": [
  {
   "cell_type": "code",
   "execution_count": null,
   "metadata": {
    "id": "_GXdZzs76ICV"
   },
   "outputs": [],
   "source": [
    "!pip install -q -U google-generativeai"
   ]
  },
  {
   "cell_type": "code",
   "execution_count": 1,
   "metadata": {
    "id": "cqKjdYkY6Iwa"
   },
   "outputs": [],
   "source": [
    "import pathlib\n",
    "import textwrap\n",
    "\n",
    "import google.generativeai as genai\n",
    "# Used to securely store your API key\n",
    "from google.colab import userdata\n",
    "from IPython.display import display\n",
    "from IPython.display import Markdown\n",
    "def to_markdown (text):\n",
    "  text =text.replace('.', '*')\n",
    "  return Markdown (textwrap.indent(text, '>', predicate =lambda _: True))\n"
   ]
  },
  {
   "cell_type": "code",
   "execution_count": null,
   "metadata": {
    "id": "9shH6Ma8GqmW"
   },
   "outputs": [],
   "source": [
    "# from google.colab import drive\n",
    "# drive.mount('/content/drive')"
   ]
  },
  {
   "cell_type": "code",
   "execution_count": null,
   "metadata": {
    "id": "-sv0nIlT6Iyy"
   },
   "outputs": [],
   "source": [
    "import os\n",
    "os.environ['GOOGLE_API_KEY']=\"ENTER YOUR API KEY\""
   ]
  },
  {
   "cell_type": "code",
   "execution_count": 3,
   "metadata": {
    "id": "0ZOW1YO56I1c"
   },
   "outputs": [],
   "source": [
    "genai.configure(api_key=os.environ['GOOGLE_API_KEY'])"
   ]
  },
  {
   "cell_type": "code",
   "execution_count": 4,
   "metadata": {
    "colab": {
     "base_uri": "https://localhost:8080/",
     "height": 416
    },
    "id": "0ksq39aG7inc",
    "outputId": "b476de27-5d3d-4399-90c1-9baae418d6e2"
   },
   "outputs": [
    {
     "name": "stdout",
     "output_type": "stream",
     "text": [
      "models/gemini-1.0-pro-latest\n",
      "models/gemini-1.0-pro\n",
      "models/gemini-pro\n",
      "models/gemini-1.0-pro-001\n",
      "models/gemini-1.0-pro-vision-latest\n",
      "models/gemini-pro-vision\n",
      "models/gemini-1.5-pro-latest\n",
      "models/gemini-1.5-pro-001\n",
      "models/gemini-1.5-pro-002\n",
      "models/gemini-1.5-pro\n",
      "models/gemini-1.5-pro-exp-0801\n",
      "models/gemini-1.5-pro-exp-0827\n",
      "models/gemini-1.5-flash-latest\n",
      "models/gemini-1.5-flash-001\n",
      "models/gemini-1.5-flash-001-tuning\n",
      "models/gemini-1.5-flash\n",
      "models/gemini-1.5-flash-exp-0827\n",
      "models/gemini-1.5-flash-002\n",
      "models/gemini-1.5-flash-8b\n",
      "models/gemini-1.5-flash-8b-001\n",
      "models/gemini-1.5-flash-8b-latest\n",
      "models/gemini-1.5-flash-8b-exp-0827\n",
      "models/gemini-1.5-flash-8b-exp-0924\n"
     ]
    }
   ],
   "source": [
    "for m in genai.list_models():\n",
    "  if 'generateContent' in m.supported_generation_methods:\n",
    "    print(m.name)"
   ]
  },
  {
   "cell_type": "code",
   "execution_count": 5,
   "metadata": {
    "id": "Phv-bCP87iqG"
   },
   "outputs": [],
   "source": [
    "model=genai.GenerativeModel('gemini-1.0-pro')"
   ]
  },
  {
   "cell_type": "code",
   "execution_count": 6,
   "metadata": {
    "colab": {
     "base_uri": "https://localhost:8080/"
    },
    "id": "tXvE2QfM7isx",
    "outputId": "214c3571-c240-458d-860e-b66f1335345c"
   },
   "outputs": [
    {
     "data": {
      "text/plain": [
       "genai.GenerativeModel(\n",
       "    model_name='models/gemini-1.0-pro',\n",
       "    generation_config={},\n",
       "    safety_settings={},\n",
       "    tools=None,\n",
       "    system_instruction=None,\n",
       "    cached_content=None\n",
       ")"
      ]
     },
     "execution_count": 6,
     "metadata": {},
     "output_type": "execute_result"
    }
   ],
   "source": [
    "model"
   ]
  },
  {
   "cell_type": "code",
   "execution_count": 7,
   "metadata": {
    "colab": {
     "base_uri": "https://localhost:8080/",
     "height": 52
    },
    "id": "jWnkT2RW7ivS",
    "outputId": "ad10f60a-a2b0-43e5-aa41-5692a3cc6d9c"
   },
   "outputs": [
    {
     "name": "stdout",
     "output_type": "stream",
     "text": [
      "CPU times: user 70.1 ms, sys: 4.63 ms, total: 74.7 ms\n",
      "Wall time: 4.94 s\n"
     ]
    }
   ],
   "source": [
    "%%time\n",
    "response=model.generate_content(\"I want you to write a code in python only, not the excel formula, to take the average of two in an excel file which are rows 9 and 10 and put the result in the 11th row for every column C to F, in that excel file\")"
   ]
  },
  {
   "cell_type": "code",
   "execution_count": 8,
   "metadata": {
    "colab": {
     "base_uri": "https://localhost:8080/",
     "height": 271
    },
    "id": "Xno5d1tV8oqp",
    "outputId": "5c03569d-a541-4a0d-c173-7aa04c019f96"
   },
   "outputs": [
    {
     "data": {
      "text/markdown": [
       ">```python\n",
       ">import pandas as pd\n",
       ">\n",
       "># Read the Excel file\n",
       ">df = pd*read_excel('data*xlsx')\n",
       ">\n",
       "># Calculate the average of rows 9 and 10 for columns C to F\n",
       ">df['avg_C_F'] = (df['C'] + df['D'] + df['E'] + df['F']) / 4\n",
       ">\n",
       "># Insert the new row into the DataFrame\n",
       ">df*loc[11] = df['avg_C_F']*values\n",
       ">\n",
       "># Save the DataFrame to the Excel file\n",
       ">df*to_excel('data*xlsx', index=False)\n",
       ">```"
      ],
      "text/plain": [
       "<IPython.core.display.Markdown object>"
      ]
     },
     "execution_count": 8,
     "metadata": {},
     "output_type": "execute_result"
    }
   ],
   "source": [
    "to_markdown(response.text)"
   ]
  },
  {
   "cell_type": "code",
   "execution_count": 9,
   "metadata": {
    "colab": {
     "base_uri": "https://localhost:8080/"
    },
    "id": "gPwerXVZfMG-",
    "outputId": "d48820e5-0e37-4262-fe00-42d24d4d3e48"
   },
   "outputs": [
    {
     "name": "stdout",
     "output_type": "stream",
     "text": [
      "Requirement already satisfied: torch in /usr/local/lib/python3.10/dist-packages (2.5.0+cu121)\n",
      "Requirement already satisfied: filelock in /usr/local/lib/python3.10/dist-packages (from torch) (3.16.1)\n",
      "Requirement already satisfied: typing-extensions>=4.8.0 in /usr/local/lib/python3.10/dist-packages (from torch) (4.12.2)\n",
      "Requirement already satisfied: networkx in /usr/local/lib/python3.10/dist-packages (from torch) (3.4.2)\n",
      "Requirement already satisfied: jinja2 in /usr/local/lib/python3.10/dist-packages (from torch) (3.1.4)\n",
      "Requirement already satisfied: fsspec in /usr/local/lib/python3.10/dist-packages (from torch) (2024.10.0)\n",
      "Requirement already satisfied: sympy==1.13.1 in /usr/local/lib/python3.10/dist-packages (from torch) (1.13.1)\n",
      "Requirement already satisfied: mpmath<1.4,>=1.1.0 in /usr/local/lib/python3.10/dist-packages (from sympy==1.13.1->torch) (1.3.0)\n",
      "Requirement already satisfied: MarkupSafe>=2.0 in /usr/local/lib/python3.10/dist-packages (from jinja2->torch) (3.0.2)\n"
     ]
    }
   ],
   "source": [
    "!pip install torch"
   ]
  },
  {
   "cell_type": "code",
   "execution_count": 10,
   "metadata": {
    "colab": {
     "base_uri": "https://localhost:8080/"
    },
    "id": "n8L1wQmTfQzr",
    "outputId": "78b72165-780c-47e8-c4b3-9b66e1aff05d"
   },
   "outputs": [
    {
     "name": "stdout",
     "output_type": "stream",
     "text": [
      "Collecting rouge\n",
      "  Downloading rouge-1.0.1-py3-none-any.whl.metadata (4.1 kB)\n",
      "Requirement already satisfied: six in /usr/local/lib/python3.10/dist-packages (from rouge) (1.16.0)\n",
      "Downloading rouge-1.0.1-py3-none-any.whl (13 kB)\n",
      "Installing collected packages: rouge\n",
      "Successfully installed rouge-1.0.1\n"
     ]
    }
   ],
   "source": [
    "!pip install rouge"
   ]
  },
  {
   "cell_type": "code",
   "execution_count": 11,
   "metadata": {
    "colab": {
     "base_uri": "https://localhost:8080/"
    },
    "id": "F7TkrJ2GfDXZ",
    "outputId": "daed301b-ba84-435e-d888-ac6adaa3d03c"
   },
   "outputs": [
    {
     "name": "stdout",
     "output_type": "stream",
     "text": [
      "[{'rouge-1': {'r': 0.15584415584415584, 'p': 0.5714285714285714, 'f': 0.24489795581632653}, 'rouge-2': {'r': 0.060714285714285714, 'p': 0.3148148148148148, 'f': 0.10179640447488264}, 'rouge-l': {'r': 0.14285714285714285, 'p': 0.5238095238095238, 'f': 0.22448979255102042}}]\n"
     ]
    }
   ],
   "source": [
    "#ROGUE\n",
    "import torch\n",
    "import rouge\n",
    "from rouge import Rouge\n",
    "\n",
    "reference_summary=\"\"\" Hello! As an Assistant, I'm here to help you with your question. Here is a Python code that will calculate the average of rows 9 and 10 for every column from C to F and place the result in the 11th row:\n",
    "\n",
    "python\n",
    "Copy code\n",
    "import openpyxl\n",
    "\n",
    "# Load the workbook and select the active sheet\n",
    "wb = openpyxl.load_workbook('your_excel_file.xlsx')\n",
    "ws = wb.active\n",
    "\n",
    "# Loop through columns C to F (which are columns 3 to 6 in Excel)\n",
    "for col in range(3, 7):  # C is 3, D is 4, E is 5, F is 6\n",
    "    # Get the values from rows 9 and 10 for the current column\n",
    "    value_row_9 = ws.cell(row=9, column=col).value\n",
    "    value_row_10 = ws.cell(row=10, column=col).value\n",
    "\n",
    "    # Calculate the average\n",
    "    avg_value = (value_row_9 + value_row_10) / 2\n",
    "\n",
    "    # Put the result in the 11th row of the current column\n",
    "    ws.cell(row=11, column=col).value = avg_value\n",
    "\n",
    "# Save the workbook with the updated values\n",
    "wb.save('your_updated_excel_file.xlsx')\n",
    "How this code works:\n",
    "openpyxl.load_workbook(): This loads the Excel workbook you want to work with.\n",
    "wb.active: This accesses the active sheet in the workbook.\n",
    "Loop through columns C to F: Columns C to F are the 3rd to 6th columns in Excel, so the code loops through these column indices (3 to 6).\n",
    "Get values from rows 9 and 10: The code gets the values from rows 9 and 10 for each column.\n",
    "Calculate the average: The average of the values in rows 9 and 10 is calculated.\n",
    "Place the result in row 11: The calculated average is inserted into the corresponding cell in row 11.\n",
    "Save the updated workbook: The updated workbook is saved with the new values in it.\n",
    "Requirements:\n",
    "Make sure you have the openpyxl library installed. If not, you can install it using:\n",
    "\n",
    "bash\n",
    "Copy code\n",
    "pip install openpyxl\n",
    "Replace 'your_excel_file.xlsx' with the path to your Excel file, and 'your_updated_excel_file.xlsx' with the desired path for the updated file.\n",
    "\n",
    "This code will calculate and update the averages in row 11 for each column from C to F. \"\"\"\n",
    "generated_summary=\"\"\"\n",
    "import pandas as pd\n",
    "\n",
    "# Read the Excel file\n",
    "df = pd*read_excel('data*xlsx')\n",
    "\n",
    "# Calculate the average of rows 9 and 10 for columns C to F\n",
    "df['avg_C_F'] = (df['C'] + df['D'] + df['E'] + df['F']) / 4\n",
    "\n",
    "# Insert the new row into the DataFrame\n",
    "df*loc[11] = df['avg_C_F']*values\n",
    "\n",
    "# Save the DataFrame to the Excel file\n",
    "df*to_excel('data*xlsx', index=False)\n",
    "\"\"\"\n",
    "\n",
    "rogue=Rouge()\n",
    "scores=rogue.get_scores(generated_summary,reference_summary)\n",
    "print(scores)"
   ]
  },
  {
   "cell_type": "markdown",
   "metadata": {
    "id": "sOzVLomshkwT"
   },
   "source": []
  },
  {
   "cell_type": "code",
   "execution_count": 18,
   "metadata": {
    "id": "ZmdRqb1ehLTH"
   },
   "outputs": [],
   "source": [
    "model=genai.GenerativeModel('gemini-1.5-pro-latest')"
   ]
  },
  {
   "cell_type": "code",
   "execution_count": 19,
   "metadata": {
    "colab": {
     "base_uri": "https://localhost:8080/",
     "height": 52
    },
    "id": "zXQ9pW17hLaS",
    "outputId": "069c6040-206c-4a72-878b-44c06ec074ba"
   },
   "outputs": [
    {
     "name": "stdout",
     "output_type": "stream",
     "text": [
      "CPU times: user 260 ms, sys: 25.5 ms, total: 285 ms\n",
      "Wall time: 18.9 s\n"
     ]
    }
   ],
   "source": [
    "%%time\n",
    "response=model.generate_content(\"I want you to write a code in python only, not the excel formula, to take the average of two in an excel file which are rows 9 and 10 and put the result in the 11th row for every column C to F, in that excel file\")"
   ]
  },
  {
   "cell_type": "code",
   "execution_count": 20,
   "metadata": {
    "colab": {
     "base_uri": "https://localhost:8080/",
     "height": 1000
    },
    "id": "C7K6cLuqhLdU",
    "outputId": "2d89ce48-758e-42c6-b91c-edfbe033cc2e"
   },
   "outputs": [
    {
     "data": {
      "text/markdown": [
       ">```python\n",
       ">import openpyxl\n",
       ">\n",
       ">def average_rows_excel(filepath):\n",
       ">    \"\"\"Calculates the average of two rows (9 and 10) and writes the result to row 11 \n",
       ">       for columns C to F in an Excel file*\n",
       ">\n",
       ">    Args:\n",
       ">        filepath: The path to the Excel file*\n",
       ">    \"\"\"\n",
       ">    try:\n",
       ">        workbook = openpyxl*load_workbook(filepath)\n",
       ">        sheet = workbook*active  # Assumes you're working with the active sheet\n",
       ">\n",
       ">        # Iterate through columns C to F\n",
       ">        for col_index in range(3, 7):  # C=3, D=4, E=5, F=6\n",
       ">             col_letter = openpyxl*utils*get_column_letter(col_index) #easier to debug if needed\n",
       ">\n",
       ">            # Get values from rows 9 and 10 (handle potential errors if cells are empty)\n",
       ">            try:\n",
       ">                value_row9 = float(sheet[f\"{col_letter}9\"]*value)\n",
       ">            except (TypeError, ValueError): #Empty cell or non-numeric content\n",
       ">                value_row9 = 0  \n",
       ">\n",
       ">            try:\n",
       ">                value_row10 = float(sheet[f\"{col_letter}10\"]*value)\n",
       ">            except (TypeError, ValueError):\n",
       ">                value_row10 = 0\n",
       ">\n",
       ">            # Calculate the average\n",
       ">            average = (value_row9 + value_row10) / 2 if (value_row9!=0 or value_row10 !=0) else \"\" #avoid division by zero and don't put 0 if both rows are empty*\n",
       ">\n",
       ">\n",
       ">            # Write the average to row 11\n",
       ">            sheet[f\"{col_letter}11\"] = average\n",
       ">\n",
       ">        workbook*save(filepath)\n",
       ">        print(f\"Averages written to row 11, columns C to F in {filepath}\")\n",
       ">\n",
       ">    except FileNotFoundError:\n",
       ">        print(f\"Error: File not found at {filepath}\")\n",
       ">    except Exception as e:\n",
       ">        print(f\"An error occurred: {e}\")\n",
       ">\n",
       ">\n",
       "># Example usage: Replace with your file path\n",
       ">file_path = \"your_excel_file*xlsx\"  \n",
       ">average_rows_excel(file_path)\n",
       ">\n",
       ">\n",
       ">```\n",
       ">\n",
       ">\n",
       ">Key improvements in this code:\n",
       ">\n",
       ">* **Error Handling:**  The code now includes `try-except` blocks to handle potential `TypeError` and `ValueError` exceptions that might occur if cells are empty or contain non-numeric data*  This makes it more robust*\n",
       ">* **Clearer Variable Names:** Using `col_index` and `col_letter` makes the code easier to understand*\n",
       ">* **Zero Division Check**: Avoids potential `ZeroDivisionError` if both row 9 and row 10 have zero values*\n",
       ">* **Handles Empty Cells more gracefully**: If both row 9 and 10 are empty for a column, it will write *nothing* to row 11 for that column (rather than 0)*\n",
       ">* **More informative output**: Tells the user what happened (file not found or other errors)*\n",
       ">\n",
       ">\n",
       ">**How to use:**\n",
       ">\n",
       ">1* **Install openpyxl:** If you don't have it already, install the library: `pip install openpyxl`\n",
       ">2* **Replace \"your_excel_file*xlsx\"**:  Change this placeholder to the actual path of your Excel file*\n",
       ">3* **Run the script:**  Execute the Python script*  The averages will be calculated and written directly into your Excel file*"
      ],
      "text/plain": [
       "<IPython.core.display.Markdown object>"
      ]
     },
     "execution_count": 20,
     "metadata": {},
     "output_type": "execute_result"
    }
   ],
   "source": [
    "to_markdown(response.text)"
   ]
  },
  {
   "cell_type": "code",
   "execution_count": 23,
   "metadata": {
    "colab": {
     "base_uri": "https://localhost:8080/"
    },
    "id": "_mZVF9OchZDg",
    "outputId": "34ce83d5-cc90-4770-9f22-0eaf6800dfa5"
   },
   "outputs": [
    {
     "name": "stdout",
     "output_type": "stream",
     "text": [
      "[{'rouge-1': {'r': 0.3961038961038961, 'p': 0.28110599078341014, 'f': 0.3288409654945838}, 'rouge-2': {'r': 0.12142857142857143, 'p': 0.10559006211180125, 'f': 0.11295680565556696}, 'rouge-l': {'r': 0.33766233766233766, 'p': 0.23963133640552994, 'f': 0.2803234452789504}}]\n"
     ]
    }
   ],
   "source": [
    "#ROGUE\n",
    "import torch\n",
    "import rouge\n",
    "from rouge import Rouge\n",
    "\n",
    "reference_summary=\"\"\" Hello! As an Assistant, I'm here to help you with your question. Here is a Python code that will calculate the average of rows 9 and 10 for every column from C to F and place the result in the 11th row:\n",
    "\n",
    "python\n",
    "Copy code\n",
    "import openpyxl\n",
    "\n",
    "# Load the workbook and select the active sheet\n",
    "wb = openpyxl.load_workbook('your_excel_file.xlsx')\n",
    "ws = wb.active\n",
    "\n",
    "# Loop through columns C to F (which are columns 3 to 6 in Excel)\n",
    "for col in range(3, 7):  # C is 3, D is 4, E is 5, F is 6\n",
    "    # Get the values from rows 9 and 10 for the current column\n",
    "    value_row_9 = ws.cell(row=9, column=col).value\n",
    "    value_row_10 = ws.cell(row=10, column=col).value\n",
    "\n",
    "    # Calculate the average\n",
    "    avg_value = (value_row_9 + value_row_10) / 2\n",
    "\n",
    "    # Put the result in the 11th row of the current column\n",
    "    ws.cell(row=11, column=col).value = avg_value\n",
    "\n",
    "# Save the workbook with the updated values\n",
    "wb.save('your_updated_excel_file.xlsx')\n",
    "How this code works:\n",
    "openpyxl.load_workbook(): This loads the Excel workbook you want to work with.\n",
    "wb.active: This accesses the active sheet in the workbook.\n",
    "Loop through columns C to F: Columns C to F are the 3rd to 6th columns in Excel, so the code loops through these column indices (3 to 6).\n",
    "Get values from rows 9 and 10: The code gets the values from rows 9 and 10 for each column.\n",
    "Calculate the average: The average of the values in rows 9 and 10 is calculated.\n",
    "Place the result in row 11: The calculated average is inserted into the corresponding cell in row 11.\n",
    "Save the updated workbook: The updated workbook is saved with the new values in it.\n",
    "Requirements:\n",
    "Make sure you have the openpyxl library installed. If not, you can install it using:\n",
    "\n",
    "bash\n",
    "Copy code\n",
    "pip install openpyxl\n",
    "Replace 'your_excel_file.xlsx' with the path to your Excel file, and 'your_updated_excel_file.xlsx' with the desired path for the updated file.\n",
    "\n",
    "This code will calculate and update the averages in row 11 for each column from C to F. \"\"\"\n",
    "generated_summary=\"\"\"\n",
    "import openpyxl\n",
    "\n",
    "def average_rows_excel(filepath):\n",
    "   #Calculates the average of two rows (9 and 10) and writes the result to row 11\n",
    "      #for columns C to F in an Excel file*\n",
    "\n",
    "   #Args:\n",
    "       #filepath: The path to the Excel file*\n",
    "   try:\n",
    "       workbook = openpyxl*load_workbook(filepath)\n",
    "       sheet = workbook*active  # Assumes you're working with the active sheet\n",
    "\n",
    "       # Iterate through columns C to F\n",
    "       for col_index in range(3, 7):  # C=3, D=4, E=5, F=6\n",
    "            col_letter = openpyxl*utils*get_column_letter(col_index) #easier to debug if needed\n",
    "\n",
    "           # Get values from rows 9 and 10 (handle potential errors if cells are empty)\n",
    "           try:\n",
    "               value_row9 = float(sheet[f\"{col_letter}9\"]*value)\n",
    "           except (TypeError, ValueError): #Empty cell or non-numeric content\n",
    "               value_row9 = 0\n",
    "\n",
    "           try:\n",
    "               value_row10 = float(sheet[f\"{col_letter}10\"]*value)\n",
    "           except (TypeError, ValueError):\n",
    "               value_row10 = 0\n",
    "\n",
    "           # Calculate the average\n",
    "           average = (value_row9 + value_row10) / 2 if (value_row9!=0 or value_row10 !=0) else \"\" #avoid division by zero and don't put 0 if both rows are empty*\n",
    "\n",
    "\n",
    "           # Write the average to row 11\n",
    "           sheet[f\"{col_letter}11\"] = average\n",
    "\n",
    "       workbook*save(filepath)\n",
    "       print(f\"Averages written to row 11, columns C to F in {filepath}\")\n",
    "\n",
    "   except FileNotFoundError:\n",
    "       print(f\"Error: File not found at {filepath}\")\n",
    "   except Exception as e:\n",
    "       print(f\"An error occurred: {e}\")\n",
    "\n",
    "\n",
    "# Example usage: Replace with your file path\n",
    "file_path = \"your_excel_file*xlsx\"\n",
    "average_rows_excel(file_path)\n",
    "\n",
    "Key improvements in this code:\n",
    "\n",
    "Error Handling: The code now includes try-except blocks to handle potential TypeError and ValueError exceptions that might occur if cells are empty or contain non-numeric data* This makes it more robust*\n",
    "Clearer Variable Names: Using col_index and col_letter makes the code easier to understand*\n",
    "Zero Division Check: Avoids potential ZeroDivisionError if both row 9 and row 10 have zero values*\n",
    "Handles Empty Cells more gracefully: If both row 9 and 10 are empty for a column, it will write nothing to row 11 for that column (rather than 0)*\n",
    "More informative output: Tells the user what happened (file not found or other errors)*\n",
    "How to use:\n",
    "\n",
    "1* Install openpyxl: If you don't have it already, install the library: pip install openpyxl 2* Replace \"your_excel_file*xlsx\": Change this placeholder to the actual path of your Excel file* 3* Run the script: Execute the Python script* The averages will be calculated and written directly into your Excel file*\n",
    "\"\"\"\n",
    "\n",
    "rogue=Rouge()\n",
    "scores=rogue.get_scores(generated_summary,reference_summary)\n",
    "print(scores)"
   ]
  },
  {
   "cell_type": "markdown",
   "metadata": {
    "id": "2EWiO1BciBd-"
   },
   "source": []
  },
  {
   "cell_type": "code",
   "execution_count": 24,
   "metadata": {
    "id": "bJ1axTN6hZGD"
   },
   "outputs": [],
   "source": [
    "model=genai.GenerativeModel('gemini-1.5-pro-exp-0827')"
   ]
  },
  {
   "cell_type": "code",
   "execution_count": 25,
   "metadata": {
    "colab": {
     "base_uri": "https://localhost:8080/",
     "height": 52
    },
    "id": "fcFYYWuuhZIg",
    "outputId": "99dddaf2-3f37-4bbc-e1cc-2a30566ece2a"
   },
   "outputs": [
    {
     "name": "stdout",
     "output_type": "stream",
     "text": [
      "CPU times: user 163 ms, sys: 17.9 ms, total: 180 ms\n",
      "Wall time: 12.6 s\n"
     ]
    }
   ],
   "source": [
    "%%time\n",
    "response=model.generate_content(\"I want you to write a code in python only, not the excel formula, to take the average of two in an excel file which are rows 9 and 10 and put the result in the 11th row for every column C to F, in that excel file\")"
   ]
  },
  {
   "cell_type": "code",
   "execution_count": 26,
   "metadata": {
    "colab": {
     "base_uri": "https://localhost:8080/",
     "height": 607
    },
    "id": "00WYPoodhZMl",
    "outputId": "d5ba2c18-ad14-4b52-cc16-82c4fb413f44"
   },
   "outputs": [
    {
     "data": {
      "text/markdown": [
       ">```python\n",
       ">import openpyxl\n",
       ">\n",
       "># Load the workbook\n",
       ">workbook = openpyxl*load_workbook('your_excel_file*xlsx')  # Replace with your file name\n",
       ">\n",
       "># Select the sheet you want to work with\n",
       ">sheet = workbook['Sheet1']  # Replace with your sheet name\n",
       ">\n",
       "># Loop through columns C to F\n",
       ">for col in range(3, 7):  # Column C is index 3, F is index 6\n",
       ">    # Get the values from rows 9 and 10\n",
       ">    value_row_9 = sheet*cell(row=9, column=col)*value\n",
       ">    value_row_10 = sheet*cell(row=10, column=col)*value\n",
       ">\n",
       ">    # Calculate the average\n",
       ">    average = (value_row_9 + value_row_10) / 2\n",
       ">\n",
       ">    # Write the average to row 11\n",
       ">    sheet*cell(row=11, column=col)*value = average\n",
       ">\n",
       "># Save the changes\n",
       ">workbook*save('your_excel_file*xlsx') \n",
       ">```\n",
       ">\n",
       ">**Explanation:**\n",
       ">\n",
       ">1* **Import openpyxl:** This line imports the necessary library for working with Excel files*\n",
       ">2* **Load the workbook:** Replace `'your_excel_file*xlsx'` with the actual name of your Excel file* \n",
       ">3* **Select the sheet:** Replace `'Sheet1'` with the name of the sheet you want to modify*\n",
       ">4* **Loop through columns:** The `for` loop iterates through columns C to F (represented by indices 3 to 6)*\n",
       ">5* **Get values:** Inside the loop, we get the values from rows 9 and 10 of the current column using `sheet*cell(row, column)*value`*\n",
       ">6* **Calculate average:** We calculate the average of the two values*\n",
       ">7* **Write average:** We write the calculated average to row 11 of the current column*\n",
       ">8* **Save changes:** Finally, we save the modified workbook*\n",
       ">\n",
       ">**Remember to:**\n",
       ">\n",
       ">- Install the `openpyxl` library if you don't have it already: `pip install openpyxl`\n",
       ">- Replace the placeholder file name and sheet name with your actual values*"
      ],
      "text/plain": [
       "<IPython.core.display.Markdown object>"
      ]
     },
     "execution_count": 26,
     "metadata": {},
     "output_type": "execute_result"
    }
   ],
   "source": [
    "to_markdown(response.text)"
   ]
  },
  {
   "cell_type": "code",
   "execution_count": 27,
   "metadata": {
    "colab": {
     "base_uri": "https://localhost:8080/"
    },
    "id": "DhuuANyAhZPA",
    "outputId": "25cc1796-5c74-4043-fbbb-fbf8da53f27d"
   },
   "outputs": [
    {
     "name": "stdout",
     "output_type": "stream",
     "text": [
      "[{'rouge-1': {'r': 0.42207792207792205, 'p': 0.4961832061068702, 'f': 0.45614034590975683}, 'rouge-2': {'r': 0.21428571428571427, 'p': 0.28708133971291866, 'f': 0.24539876811154193}, 'rouge-l': {'r': 0.36363636363636365, 'p': 0.42748091603053434, 'f': 0.3929824511729148}}]\n"
     ]
    }
   ],
   "source": [
    "#ROGUE\n",
    "import torch\n",
    "import rouge\n",
    "from rouge import Rouge\n",
    "\n",
    "reference_summary=\"\"\" Hello! As an Assistant, I'm here to help you with your question. Here is a Python code that will calculate the average of rows 9 and 10 for every column from C to F and place the result in the 11th row:\n",
    "\n",
    "python\n",
    "Copy code\n",
    "import openpyxl\n",
    "\n",
    "# Load the workbook and select the active sheet\n",
    "wb = openpyxl.load_workbook('your_excel_file.xlsx')\n",
    "ws = wb.active\n",
    "\n",
    "# Loop through columns C to F (which are columns 3 to 6 in Excel)\n",
    "for col in range(3, 7):  # C is 3, D is 4, E is 5, F is 6\n",
    "    # Get the values from rows 9 and 10 for the current column\n",
    "    value_row_9 = ws.cell(row=9, column=col).value\n",
    "    value_row_10 = ws.cell(row=10, column=col).value\n",
    "\n",
    "    # Calculate the average\n",
    "    avg_value = (value_row_9 + value_row_10) / 2\n",
    "\n",
    "    # Put the result in the 11th row of the current column\n",
    "    ws.cell(row=11, column=col).value = avg_value\n",
    "\n",
    "# Save the workbook with the updated values\n",
    "wb.save('your_updated_excel_file.xlsx')\n",
    "How this code works:\n",
    "openpyxl.load_workbook(): This loads the Excel workbook you want to work with.\n",
    "wb.active: This accesses the active sheet in the workbook.\n",
    "Loop through columns C to F: Columns C to F are the 3rd to 6th columns in Excel, so the code loops through these column indices (3 to 6).\n",
    "Get values from rows 9 and 10: The code gets the values from rows 9 and 10 for each column.\n",
    "Calculate the average: The average of the values in rows 9 and 10 is calculated.\n",
    "Place the result in row 11: The calculated average is inserted into the corresponding cell in row 11.\n",
    "Save the updated workbook: The updated workbook is saved with the new values in it.\n",
    "Requirements:\n",
    "Make sure you have the openpyxl library installed. If not, you can install it using:\n",
    "\n",
    "bash\n",
    "Copy code\n",
    "pip install openpyxl\n",
    "Replace 'your_excel_file.xlsx' with the path to your Excel file, and 'your_updated_excel_file.xlsx' with the desired path for the updated file.\n",
    "\n",
    "This code will calculate and update the averages in row 11 for each column from C to F. \"\"\"\n",
    "generated_summary=\"\"\"\n",
    "import openpyxl\n",
    "\n",
    "# Load the workbook\n",
    "workbook = openpyxl*load_workbook('your_excel_file*xlsx')  # Replace with your file name\n",
    "\n",
    "# Select the sheet you want to work with\n",
    "sheet = workbook['Sheet1']  # Replace with your sheet name\n",
    "\n",
    "# Loop through columns C to F\n",
    "for col in range(3, 7):  # Column C is index 3, F is index 6\n",
    "   # Get the values from rows 9 and 10\n",
    "   value_row_9 = sheet*cell(row=9, column=col)*value\n",
    "   value_row_10 = sheet*cell(row=10, column=col)*value\n",
    "\n",
    "   # Calculate the average\n",
    "   average = (value_row_9 + value_row_10) / 2\n",
    "\n",
    "   # Write the average to row 11\n",
    "   sheet*cell(row=11, column=col)*value = average\n",
    "\n",
    "# Save the changes\n",
    "workbook*save('your_excel_file*xlsx')\n",
    "Explanation:\n",
    "\n",
    "1* Import openpyxl: This line imports the necessary library for working with Excel files* 2* Load the workbook: Replace 'your_excel_file*xlsx' with the actual name of your Excel file* 3* Select the sheet: Replace 'Sheet1' with the name of the sheet you want to modify* 4* Loop through columns: The for loop iterates through columns C to F (represented by indices 3 to 6)* 5* Get values: Inside the loop, we get the values from rows 9 and 10 of the current column using sheet*cell(row, column)*value* 6* Calculate average: We calculate the average of the two values* 7* Write average: We write the calculated average to row 11 of the current column* 8* Save changes: Finally, we save the modified workbook*\n",
    "\n",
    "Remember to:\n",
    "\n",
    "Install the openpyxl library if you don't have it already: pip install openpyxl\n",
    "Replace the placeholder file name and sheet name with your actual values*\n",
    "\n",
    "\"\"\"\n",
    "\n",
    "rogue=Rouge()\n",
    "scores=rogue.get_scores(generated_summary,reference_summary)\n",
    "print(scores)"
   ]
  },
  {
   "cell_type": "code",
   "execution_count": null,
   "metadata": {
    "id": "djBIkRYcijwh"
   },
   "outputs": [],
   "source": []
  }
 ],
 "metadata": {
  "colab": {
   "provenance": []
  },
  "kernelspec": {
   "display_name": "Python 3",
   "name": "python3"
  },
  "language_info": {
   "name": "python"
  }
 },
 "nbformat": 4,
 "nbformat_minor": 0
}
